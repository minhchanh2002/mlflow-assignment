{
 "cells": [
  {
   "cell_type": "code",
   "execution_count": 7,
   "metadata": {},
   "outputs": [
    {
     "name": "stdout",
     "output_type": "stream",
     "text": [
      "[Result] Logistic Regression Accuracy: 0.7050\n"
     ]
    },
    {
     "name": "stderr",
     "output_type": "stream",
     "text": [
      "2025/04/28 01:37:49 WARNING mlflow.models.model: Model logged without a signature and input example. Please set `input_example` parameter when logging the model to auto infer the model signature.\n"
     ]
    },
    {
     "name": "stdout",
     "output_type": "stream",
     "text": [
      "Fitting 5 folds for each of 24 candidates, totalling 120 fits\n",
      "[Result] Logistic Regression Tuned Accuracy: 0.7017\n"
     ]
    },
    {
     "name": "stderr",
     "output_type": "stream",
     "text": [
      "2025/04/28 01:37:55 WARNING mlflow.models.model: Model logged without a signature and input example. Please set `input_example` parameter when logging the model to auto infer the model signature.\n"
     ]
    },
    {
     "name": "stdout",
     "output_type": "stream",
     "text": [
      "[Result] Random Forest Accuracy: 0.8517\n"
     ]
    },
    {
     "name": "stderr",
     "output_type": "stream",
     "text": [
      "2025/04/28 01:38:00 WARNING mlflow.models.model: Model logged without a signature and input example. Please set `input_example` parameter when logging the model to auto infer the model signature.\n",
      "c:\\Users\\ACER\\AppData\\Local\\Programs\\Python\\Python311\\Lib\\site-packages\\xgboost\\training.py:183: UserWarning: [01:38:00] WARNING: C:\\actions-runner\\_work\\xgboost\\xgboost\\src\\learner.cc:738: \n",
      "Parameters: { \"use_label_encoder\" } are not used.\n",
      "\n",
      "  bst.update(dtrain, iteration=i, fobj=obj)\n"
     ]
    },
    {
     "name": "stdout",
     "output_type": "stream",
     "text": [
      "[Result] XGBoost Accuracy: 0.8617\n"
     ]
    },
    {
     "name": "stderr",
     "output_type": "stream",
     "text": [
      "2025/04/28 01:38:05 WARNING mlflow.models.model: Model logged without a signature and input example. Please set `input_example` parameter when logging the model to auto infer the model signature.\n"
     ]
    },
    {
     "name": "stdout",
     "output_type": "stream",
     "text": [
      "[LightGBM] [Info] Number of positive: 695, number of negative: 705\n",
      "[LightGBM] [Info] Auto-choosing col-wise multi-threading, the overhead of testing was 0.000109 seconds.\n",
      "You can set `force_col_wise=true` to remove the overhead.\n",
      "[LightGBM] [Info] Total Bins 2550\n",
      "[LightGBM] [Info] Number of data points in the train set: 1400, number of used features: 10\n",
      "[LightGBM] [Info] [binary:BoostFromScore]: pavg=0.496429 -> initscore=-0.014286\n",
      "[LightGBM] [Info] Start training from score -0.014286\n",
      "[Result] LightGBM Accuracy: 0.8583\n"
     ]
    },
    {
     "name": "stderr",
     "output_type": "stream",
     "text": [
      "2025/04/28 01:38:10 WARNING mlflow.models.model: Model logged without a signature and input example. Please set `input_example` parameter when logging the model to auto infer the model signature.\n"
     ]
    },
    {
     "name": "stdout",
     "output_type": "stream",
     "text": [
      "[Result] CatBoost Accuracy: 0.8817\n"
     ]
    },
    {
     "name": "stderr",
     "output_type": "stream",
     "text": [
      "2025/04/28 01:38:19 WARNING mlflow.models.model: Model logged without a signature and input example. Please set `input_example` parameter when logging the model to auto infer the model signature.\n"
     ]
    },
    {
     "name": "stdout",
     "output_type": "stream",
     "text": [
      "\n",
      "==================== Summary Results ====================\n",
      "Logistic Regression: 0.7050\n",
      "Logistic Regression Tuned: 0.7017\n",
      "Random Forest: 0.8517\n",
      "XGBoost: 0.8617\n",
      "LightGBM: 0.8583\n",
      "CatBoost: 0.8817\n",
      "\n",
      "Training completed. Check MLflow UI to choose the best model!\n"
     ]
    }
   ],
   "source": [
    "import pandas as pd\n",
    "import numpy as np\n",
    "import mlflow\n",
    "import mlflow.sklearn\n",
    "from sklearn.datasets import make_classification\n",
    "from sklearn.model_selection import train_test_split, GridSearchCV\n",
    "from sklearn.linear_model import LogisticRegression\n",
    "from sklearn.ensemble import RandomForestClassifier\n",
    "from xgboost import XGBClassifier\n",
    "from lightgbm import LGBMClassifier\n",
    "from catboost import CatBoostClassifier\n",
    "from sklearn.preprocessing import StandardScaler\n",
    "from sklearn.metrics import accuracy_score\n",
    "\n",
    "# Set MLflow Experiment\n",
    "mlflow.set_experiment(\"MLOps_MSE.HCM_SP25_Experiment\")\n",
    "\n",
    "# Step 1: Tạo dữ liệu\n",
    "X, y = make_classification(\n",
    "    n_samples=1000,\n",
    "    n_features=10,\n",
    "    n_informative=8,\n",
    "    n_redundant=2,\n",
    "    random_state=42\n",
    ")\n",
    "\n",
    "# Step 2: Data Augmentation + Noise + Chuẩn hóa\n",
    "X_aug, y_aug = make_classification(\n",
    "    n_samples=2000,\n",
    "    n_features=10,\n",
    "    n_informative=8,\n",
    "    n_redundant=2,\n",
    "    random_state=42\n",
    ")\n",
    "noise = np.random.normal(0, 0.1, X_aug.shape)\n",
    "X_aug_noisy = X_aug + noise\n",
    "scaler = StandardScaler()\n",
    "X_scaled = scaler.fit_transform(X_aug_noisy)\n",
    "\n",
    "# Step 3: Train/Test split\n",
    "X_train, X_test, y_train, y_test = train_test_split(X_scaled, y_aug, test_size=0.3, random_state=42)\n",
    "\n",
    "# Bảng tổng hợp kết quả\n",
    "results = {}\n",
    "\n",
    "# Step 4: Train các mô hình\n",
    "\n",
    "# 4.1 Logistic Regression\n",
    "with mlflow.start_run(run_name=\"Logistic Regression\"):\n",
    "    model_lr = LogisticRegression(random_state=42, max_iter=500)\n",
    "    model_lr.fit(X_train, y_train)\n",
    "    y_pred_lr = model_lr.predict(X_test)\n",
    "    acc_lr = accuracy_score(y_test, y_pred_lr)\n",
    "    results[\"Logistic Regression\"] = acc_lr\n",
    "    print(f\"[Result] Logistic Regression Accuracy: {acc_lr:.4f}\")\n",
    "    mlflow.log_param(\"model\", \"Logistic Regression\")\n",
    "    mlflow.log_metric(\"accuracy\", acc_lr)\n",
    "    mlflow.sklearn.log_model(model_lr, artifact_path=\"model\")\n",
    "\n",
    "# 4.2 Logistic Regression (Tuned)\n",
    "param_grid_lr = {\n",
    "    'C': [0.01, 0.1, 1, 10],\n",
    "    'solver': ['liblinear', 'lbfgs'],\n",
    "    'max_iter': [100, 300, 500]\n",
    "}\n",
    "grid_lr = GridSearchCV(LogisticRegression(random_state=42), param_grid_lr, scoring='accuracy', cv=5, verbose=1)\n",
    "grid_lr.fit(X_train, y_train)\n",
    "\n",
    "with mlflow.start_run(run_name=\"Logistic Regression Tuned\"):\n",
    "    best_lr = grid_lr.best_estimator_\n",
    "    y_pred_lr_tuned = best_lr.predict(X_test)\n",
    "    acc_lr_tuned = accuracy_score(y_test, y_pred_lr_tuned)\n",
    "    results[\"Logistic Regression Tuned\"] = acc_lr_tuned\n",
    "    print(f\"[Result] Logistic Regression Tuned Accuracy: {acc_lr_tuned:.4f}\")\n",
    "    mlflow.log_params(grid_lr.best_params_)\n",
    "    mlflow.log_metric(\"accuracy\", acc_lr_tuned)\n",
    "    mlflow.sklearn.log_model(best_lr, artifact_path=\"model\")\n",
    "\n",
    "# 4.3 Random Forest\n",
    "with mlflow.start_run(run_name=\"Random Forest\"):\n",
    "    model_rf = RandomForestClassifier(random_state=42, n_estimators=100)\n",
    "    model_rf.fit(X_train, y_train)\n",
    "    y_pred_rf = model_rf.predict(X_test)\n",
    "    acc_rf = accuracy_score(y_test, y_pred_rf)\n",
    "    results[\"Random Forest\"] = acc_rf\n",
    "    print(f\"[Result] Random Forest Accuracy: {acc_rf:.4f}\")\n",
    "    mlflow.log_param(\"model\", \"Random Forest\")\n",
    "    mlflow.log_metric(\"accuracy\", acc_rf)\n",
    "    mlflow.sklearn.log_model(model_rf, artifact_path=\"model\")\n",
    "\n",
    "# 4.4 XGBoost\n",
    "with mlflow.start_run(run_name=\"XGBoost\"):\n",
    "    model_xgb = XGBClassifier(\n",
    "        random_state=42,\n",
    "        n_estimators=100,\n",
    "        max_depth=6,\n",
    "        learning_rate=0.1,\n",
    "        use_label_encoder=False,\n",
    "        eval_metric='logloss'\n",
    "    )\n",
    "    model_xgb.fit(X_train, y_train)\n",
    "    y_pred_xgb = model_xgb.predict(X_test)\n",
    "    acc_xgb = accuracy_score(y_test, y_pred_xgb)\n",
    "    results[\"XGBoost\"] = acc_xgb\n",
    "    print(f\"[Result] XGBoost Accuracy: {acc_xgb:.4f}\")\n",
    "    mlflow.log_param(\"model\", \"XGBoost\")\n",
    "    mlflow.log_metric(\"accuracy\", acc_xgb)\n",
    "    mlflow.sklearn.log_model(model_xgb, artifact_path=\"model\")\n",
    "\n",
    "# 4.5 LightGBM\n",
    "with mlflow.start_run(run_name=\"LightGBM\"):\n",
    "    model_lgb = LGBMClassifier(random_state=42, n_estimators=100)\n",
    "    model_lgb.fit(X_train, y_train)\n",
    "    y_pred_lgb = model_lgb.predict(X_test)\n",
    "    acc_lgb = accuracy_score(y_test, y_pred_lgb)\n",
    "    results[\"LightGBM\"] = acc_lgb\n",
    "    print(f\"[Result] LightGBM Accuracy: {acc_lgb:.4f}\")\n",
    "    mlflow.log_param(\"model\", \"LightGBM\")\n",
    "    mlflow.log_metric(\"accuracy\", acc_lgb)\n",
    "    mlflow.sklearn.log_model(model_lgb, artifact_path=\"model\")\n",
    "\n",
    "# 4.6 CatBoost\n",
    "with mlflow.start_run(run_name=\"CatBoost\"):\n",
    "    model_cat = CatBoostClassifier(random_state=42, verbose=0)\n",
    "    model_cat.fit(X_train, y_train)\n",
    "    y_pred_cat = model_cat.predict(X_test)\n",
    "    acc_cat = accuracy_score(y_test, y_pred_cat)\n",
    "    results[\"CatBoost\"] = acc_cat\n",
    "    print(f\"[Result] CatBoost Accuracy: {acc_cat:.4f}\")\n",
    "    mlflow.log_param(\"model\", \"CatBoost\")\n",
    "    mlflow.log_metric(\"accuracy\", acc_cat)\n",
    "    mlflow.sklearn.log_model(model_cat, artifact_path=\"model\")\n",
    "\n",
    "# Tổng kết kết quả\n",
    "print(\"\\n==================== Summary Results ====================\")\n",
    "for model_name, acc in results.items():\n",
    "    print(f\"{model_name}: {acc:.4f}\")\n",
    "\n",
    "print(\"\\nTraining completed. Check MLflow UI to choose the best model!\")"
   ]
  },
  {
   "cell_type": "code",
   "execution_count": 8,
   "metadata": {},
   "outputs": [
    {
     "name": "stdout",
     "output_type": "stream",
     "text": [
      "[INFO] Best model (CatBoost) đã được lưu vào file best_model.pkl!\n"
     ]
    }
   ],
   "source": [
    "import joblib\n",
    "\n",
    "# Sau khi train model_cat\n",
    "joblib.dump(model_cat, \"best_model.pkl\")\n",
    "print(\"[INFO] Best model (CatBoost) đã được lưu vào file best_model.pkl!\")"
   ]
  }
 ],
 "metadata": {
  "kernelspec": {
   "display_name": "Python 3",
   "language": "python",
   "name": "python3"
  },
  "language_info": {
   "codemirror_mode": {
    "name": "ipython",
    "version": 3
   },
   "file_extension": ".py",
   "mimetype": "text/x-python",
   "name": "python",
   "nbconvert_exporter": "python",
   "pygments_lexer": "ipython3",
   "version": "3.11.6"
  }
 },
 "nbformat": 4,
 "nbformat_minor": 2
}
